{
 "cells": [
  {
   "cell_type": "markdown",
   "id": "c71ed737",
   "metadata": {},
   "source": [
    "# Лабораторная работа: Анализ Big Data‑сценариев (Вариант 2: Credit Card Transactions → Fraud Detection)\n",
    "**Датасет**: Kaggle \"Credit Card Fraud Detection\" (Anonymized European card transactions)\n",
    "\n",
    "**Сценарий**: Fraud Detection (требование: задержка обработки < 50 мс; необходимость обработки late‑arriving событий)\n",
    "\n",
    "**Структура тетради** соответствует требованиям: 5V‑анализ, выбор технологий, расчёт ROI, схема архитектуры, roadmap."
   ]
  },
  {
   "cell_type": "markdown",
   "id": "63e659bb",
   "metadata": {},
   "source": [
    "## Введение\n",
    "Цель работы — выполнить 5V‑анализ реального датасета транзакций, оценить пригодность к задаче **обнаружения мошенничества** и обосновать выбор технологий (хранение, обработка, ML, оркестрация). Рассматривается практическая ценность данных (Value) через расчёт ROI и ограничений по задержке (Velocity).\n",
    "\n",
    "**Ключевые ограничения сценария**: задержка инференса/детекции < **50 мс**; устойчивость к **late‑arriving** событиям; высокая несбалансированность классов."
   ]
  },
  {
   "cell_type": "code",
   "execution_count": 1,
   "id": "f5fc6139",
   "metadata": {},
   "outputs": [
    {
     "name": "stdout",
     "output_type": "stream",
     "text": [
      "Строк: 284807 Столбцов: 31 Размер CSV: 143.842 MB\n"
     ]
    },
    {
     "data": {
      "text/html": [
       "<div>\n",
       "<style scoped>\n",
       "    .dataframe tbody tr th:only-of-type {\n",
       "        vertical-align: middle;\n",
       "    }\n",
       "\n",
       "    .dataframe tbody tr th {\n",
       "        vertical-align: top;\n",
       "    }\n",
       "\n",
       "    .dataframe thead th {\n",
       "        text-align: right;\n",
       "    }\n",
       "</style>\n",
       "<table border=\"1\" class=\"dataframe\">\n",
       "  <thead>\n",
       "    <tr style=\"text-align: right;\">\n",
       "      <th></th>\n",
       "      <th>Time</th>\n",
       "      <th>V1</th>\n",
       "      <th>V2</th>\n",
       "      <th>V3</th>\n",
       "      <th>V4</th>\n",
       "      <th>V5</th>\n",
       "      <th>V6</th>\n",
       "      <th>V7</th>\n",
       "      <th>V8</th>\n",
       "      <th>V9</th>\n",
       "      <th>...</th>\n",
       "      <th>V21</th>\n",
       "      <th>V22</th>\n",
       "      <th>V23</th>\n",
       "      <th>V24</th>\n",
       "      <th>V25</th>\n",
       "      <th>V26</th>\n",
       "      <th>V27</th>\n",
       "      <th>V28</th>\n",
       "      <th>Amount</th>\n",
       "      <th>Class</th>\n",
       "    </tr>\n",
       "  </thead>\n",
       "  <tbody>\n",
       "    <tr>\n",
       "      <th>0</th>\n",
       "      <td>0.0</td>\n",
       "      <td>-1.359807</td>\n",
       "      <td>-0.072781</td>\n",
       "      <td>2.536347</td>\n",
       "      <td>1.378155</td>\n",
       "      <td>-0.338321</td>\n",
       "      <td>0.462388</td>\n",
       "      <td>0.239599</td>\n",
       "      <td>0.098698</td>\n",
       "      <td>0.363787</td>\n",
       "      <td>...</td>\n",
       "      <td>-0.018307</td>\n",
       "      <td>0.277838</td>\n",
       "      <td>-0.110474</td>\n",
       "      <td>0.066928</td>\n",
       "      <td>0.128539</td>\n",
       "      <td>-0.189115</td>\n",
       "      <td>0.133558</td>\n",
       "      <td>-0.021053</td>\n",
       "      <td>149.62</td>\n",
       "      <td>0</td>\n",
       "    </tr>\n",
       "    <tr>\n",
       "      <th>1</th>\n",
       "      <td>0.0</td>\n",
       "      <td>1.191857</td>\n",
       "      <td>0.266151</td>\n",
       "      <td>0.166480</td>\n",
       "      <td>0.448154</td>\n",
       "      <td>0.060018</td>\n",
       "      <td>-0.082361</td>\n",
       "      <td>-0.078803</td>\n",
       "      <td>0.085102</td>\n",
       "      <td>-0.255425</td>\n",
       "      <td>...</td>\n",
       "      <td>-0.225775</td>\n",
       "      <td>-0.638672</td>\n",
       "      <td>0.101288</td>\n",
       "      <td>-0.339846</td>\n",
       "      <td>0.167170</td>\n",
       "      <td>0.125895</td>\n",
       "      <td>-0.008983</td>\n",
       "      <td>0.014724</td>\n",
       "      <td>2.69</td>\n",
       "      <td>0</td>\n",
       "    </tr>\n",
       "    <tr>\n",
       "      <th>2</th>\n",
       "      <td>1.0</td>\n",
       "      <td>-1.358354</td>\n",
       "      <td>-1.340163</td>\n",
       "      <td>1.773209</td>\n",
       "      <td>0.379780</td>\n",
       "      <td>-0.503198</td>\n",
       "      <td>1.800499</td>\n",
       "      <td>0.791461</td>\n",
       "      <td>0.247676</td>\n",
       "      <td>-1.514654</td>\n",
       "      <td>...</td>\n",
       "      <td>0.247998</td>\n",
       "      <td>0.771679</td>\n",
       "      <td>0.909412</td>\n",
       "      <td>-0.689281</td>\n",
       "      <td>-0.327642</td>\n",
       "      <td>-0.139097</td>\n",
       "      <td>-0.055353</td>\n",
       "      <td>-0.059752</td>\n",
       "      <td>378.66</td>\n",
       "      <td>0</td>\n",
       "    </tr>\n",
       "  </tbody>\n",
       "</table>\n",
       "<p>3 rows × 31 columns</p>\n",
       "</div>"
      ],
      "text/plain": [
       "   Time        V1        V2        V3        V4        V5        V6        V7  \\\n",
       "0   0.0 -1.359807 -0.072781  2.536347  1.378155 -0.338321  0.462388  0.239599   \n",
       "1   0.0  1.191857  0.266151  0.166480  0.448154  0.060018 -0.082361 -0.078803   \n",
       "2   1.0 -1.358354 -1.340163  1.773209  0.379780 -0.503198  1.800499  0.791461   \n",
       "\n",
       "         V8        V9  ...       V21       V22       V23       V24       V25  \\\n",
       "0  0.098698  0.363787  ... -0.018307  0.277838 -0.110474  0.066928  0.128539   \n",
       "1  0.085102 -0.255425  ... -0.225775 -0.638672  0.101288 -0.339846  0.167170   \n",
       "2  0.247676 -1.514654  ...  0.247998  0.771679  0.909412 -0.689281 -0.327642   \n",
       "\n",
       "        V26       V27       V28  Amount  Class  \n",
       "0 -0.189115  0.133558 -0.021053  149.62      0  \n",
       "1  0.125895 -0.008983  0.014724    2.69      0  \n",
       "2 -0.139097 -0.055353 -0.059752  378.66      0  \n",
       "\n",
       "[3 rows x 31 columns]"
      ]
     },
     "execution_count": 1,
     "metadata": {},
     "output_type": "execute_result"
    }
   ],
   "source": [
    "\n",
    "import os, math\n",
    "import pandas as pd\n",
    "import numpy as np\n",
    "import matplotlib.pyplot as plt\n",
    "\n",
    "DATA_PATH = \"creditcard.csv\"\n",
    "df = pd.read_csv(DATA_PATH)\n",
    "n_rows, n_cols = df.shape\n",
    "file_size_mb = os.path.getsize(DATA_PATH) / (1024**2)\n",
    "\n",
    "print(\"Строк:\", n_rows, \"Столбцов:\", n_cols, f\"Размер CSV: {file_size_mb:.3f} MB\")\n",
    "df.head(3)\n"
   ]
  },
  {
   "cell_type": "markdown",
   "id": "02b773f8",
   "metadata": {},
   "source": [
    "## Часть 1. Volume (объём)\n",
    "- Размер исходного CSV: **143.842 MB**\n",
    "- Число строк/столбцов: **284807×31**\n",
    "Оценка форматов хранения (эвристические коэффициенты сжатия для числовых наборов):\n",
    "- **Parquet** (~20% от CSV): ≈ **28.768 MB**\n",
    "- **Avro** (≈50% от CSV): ≈ **71.921 MB**\n",
    "\n",
    "Будет показан график роста данных и рассчитана стоимость годового хранения в Yandex Object Storage (STANDARD)."
   ]
  },
  {
   "cell_type": "code",
   "execution_count": 2,
   "id": "4c33aa8a",
   "metadata": {},
   "outputs": [
    {
     "data": {
      "text/html": [
       "<div>\n",
       "<style scoped>\n",
       "    .dataframe tbody tr th:only-of-type {\n",
       "        vertical-align: middle;\n",
       "    }\n",
       "\n",
       "    .dataframe tbody tr th {\n",
       "        vertical-align: top;\n",
       "    }\n",
       "\n",
       "    .dataframe thead th {\n",
       "        text-align: right;\n",
       "    }\n",
       "</style>\n",
       "<table border=\"1\" class=\"dataframe\">\n",
       "  <thead>\n",
       "    <tr style=\"text-align: right;\">\n",
       "      <th></th>\n",
       "      <th>Формат</th>\n",
       "      <th>Оценочный объём, MB</th>\n",
       "      <th>Доля от CSV</th>\n",
       "    </tr>\n",
       "  </thead>\n",
       "  <tbody>\n",
       "    <tr>\n",
       "      <th>0</th>\n",
       "      <td>CSV (несжатый)</td>\n",
       "      <td>143.841507</td>\n",
       "      <td>1.0</td>\n",
       "    </tr>\n",
       "    <tr>\n",
       "      <th>1</th>\n",
       "      <td>Parquet (оценка)</td>\n",
       "      <td>28.768301</td>\n",
       "      <td>0.2</td>\n",
       "    </tr>\n",
       "    <tr>\n",
       "      <th>2</th>\n",
       "      <td>Avro (оценка)</td>\n",
       "      <td>71.920753</td>\n",
       "      <td>0.5</td>\n",
       "    </tr>\n",
       "  </tbody>\n",
       "</table>\n",
       "</div>"
      ],
      "text/plain": [
       "             Формат  Оценочный объём, MB  Доля от CSV\n",
       "0    CSV (несжатый)           143.841507          1.0\n",
       "1  Parquet (оценка)            28.768301          0.2\n",
       "2     Avro (оценка)            71.920753          0.5"
      ]
     },
     "execution_count": 2,
     "metadata": {},
     "output_type": "execute_result"
    }
   ],
   "source": [
    "\n",
    "import pandas as pd\n",
    "comp = pd.DataFrame([\n",
    "    [\"CSV (несжатый)\", 143.841507, 1.00],\n",
    "    [\"Parquet (оценка)\", 28.768301, 0.2],\n",
    "    [\"Avro (оценка)\", 71.920753, 0.5],\n",
    "], columns=[\"Формат\",\"Оценочный объём, MB\",\"Доля от CSV\"])\n",
    "comp\n"
   ]
  },
  {
   "cell_type": "markdown",
   "id": "7a87999c",
   "metadata": {},
   "source": [
    "## Часть 2. Velocity (скорость поступления)\n",
    "Средняя интенсивность (events/sec): **1.648265**  \n",
    "Пиковая нагрузка (за 5‑мин окно): **1376** событий  \n",
    "Коэффициент вариации (5‑мин окна): **0.499**  \n",
    "\n",
    "График распределения событий во времени и оценка потерь при 30‑минутном сбое будут построены ниже."
   ]
  },
  {
   "cell_type": "code",
   "execution_count": 3,
   "id": "7e4e82f1",
   "metadata": {},
   "outputs": [
    {
     "data": {
      "image/png": "[encoded data removed]",
      "text/plain": [
       "<Figure size 640x480 with 1 Axes>"
      ]
     },
     "metadata": {},
     "output_type": "display_data"
    },
    {
     "name": "stdout",
     "output_type": "stream",
     "text": [
      "Оценка потерь при 30‑мин сбое (по среднему): 2966 событий\n"
     ]
    }
   ],
   "source": [
    "\n",
    "# Распределение событий во времени (5-минутные окна)\n",
    "if \"Time\" in df.columns:\n",
    "    v = df[\"Time\"].astype(float)\n",
    "    win = (v // 300).astype(int)\n",
    "    per_win = win.value_counts().sort_index()\n",
    "    plt.figure()\n",
    "    per_win.plot(kind=\"line\", title=\"События по 5‑минутным окнам\")\n",
    "    plt.xlabel(\"Индекс окна (5 мин)\")\n",
    "    plt.ylabel(\"Кол-во событий\")\n",
    "    plt.show()\n",
    "    \n",
    "    # Оценка потерь при сбое 30 минут\n",
    "    mean_per_5m = per_win.mean() if len(per_win) else 0\n",
    "    lost_30m = mean_per_5m * 6  # 6 окон по 5 минут\n",
    "    print(\"Оценка потерь при 30‑мин сбое (по среднему):\", int(lost_30m), \"событий\")\n",
    "else:\n",
    "    print(\"Колонка 'Time' не найдена, оценка Velocity ограничена.\")\n"
   ]
  },
  {
   "cell_type": "markdown",
   "id": "8ac34e09",
   "metadata": {},
   "source": [
    "## Часть 3. Variety (разнообразие)\n",
    "- Числовых столбцов: **31**; прочих: **0**  \n",
    "Датасет содержит в основном числовые анонимизированные признаки (V1…V28), а также `Time`, `Amount`, `Class`. Структура упрощает партиционирование и колоночное хранение. Неструктурированных данных нет — усилия на NLP/JSON‑парсинг не требуются."
   ]
  },
  {
   "cell_type": "code",
   "execution_count": 5,
   "id": "e8753749",
   "metadata": {},
   "outputs": [
    {
     "name": "stdout",
     "output_type": "stream",
     "text": [
      "float64    30\n",
      "int64       1\n",
      "Name: count, dtype: int64\n",
      "Первые строки для проверки форматов:\n"
     ]
    },
    {
     "data": {
      "text/html": [
       "<div>\n",
       "<style scoped>\n",
       "    .dataframe tbody tr th:only-of-type {\n",
       "        vertical-align: middle;\n",
       "    }\n",
       "\n",
       "    .dataframe tbody tr th {\n",
       "        vertical-align: top;\n",
       "    }\n",
       "\n",
       "    .dataframe thead th {\n",
       "        text-align: right;\n",
       "    }\n",
       "</style>\n",
       "<table border=\"1\" class=\"dataframe\">\n",
       "  <thead>\n",
       "    <tr style=\"text-align: right;\">\n",
       "      <th></th>\n",
       "      <th>Time</th>\n",
       "      <th>V1</th>\n",
       "      <th>V2</th>\n",
       "      <th>V3</th>\n",
       "      <th>V4</th>\n",
       "      <th>V5</th>\n",
       "      <th>V6</th>\n",
       "      <th>V7</th>\n",
       "      <th>V8</th>\n",
       "      <th>V9</th>\n",
       "      <th>...</th>\n",
       "      <th>V21</th>\n",
       "      <th>V22</th>\n",
       "      <th>V23</th>\n",
       "      <th>V24</th>\n",
       "      <th>V25</th>\n",
       "      <th>V26</th>\n",
       "      <th>V27</th>\n",
       "      <th>V28</th>\n",
       "      <th>Amount</th>\n",
       "      <th>Class</th>\n",
       "    </tr>\n",
       "  </thead>\n",
       "  <tbody>\n",
       "    <tr>\n",
       "      <th>0</th>\n",
       "      <td>0.0</td>\n",
       "      <td>-1.359807</td>\n",
       "      <td>-0.072781</td>\n",
       "      <td>2.536347</td>\n",
       "      <td>1.378155</td>\n",
       "      <td>-0.338321</td>\n",
       "      <td>0.462388</td>\n",
       "      <td>0.239599</td>\n",
       "      <td>0.098698</td>\n",
       "      <td>0.363787</td>\n",
       "      <td>...</td>\n",
       "      <td>-0.018307</td>\n",
       "      <td>0.277838</td>\n",
       "      <td>-0.110474</td>\n",
       "      <td>0.066928</td>\n",
       "      <td>0.128539</td>\n",
       "      <td>-0.189115</td>\n",
       "      <td>0.133558</td>\n",
       "      <td>-0.021053</td>\n",
       "      <td>149.62</td>\n",
       "      <td>0</td>\n",
       "    </tr>\n",
       "    <tr>\n",
       "      <th>1</th>\n",
       "      <td>0.0</td>\n",
       "      <td>1.191857</td>\n",
       "      <td>0.266151</td>\n",
       "      <td>0.166480</td>\n",
       "      <td>0.448154</td>\n",
       "      <td>0.060018</td>\n",
       "      <td>-0.082361</td>\n",
       "      <td>-0.078803</td>\n",
       "      <td>0.085102</td>\n",
       "      <td>-0.255425</td>\n",
       "      <td>...</td>\n",
       "      <td>-0.225775</td>\n",
       "      <td>-0.638672</td>\n",
       "      <td>0.101288</td>\n",
       "      <td>-0.339846</td>\n",
       "      <td>0.167170</td>\n",
       "      <td>0.125895</td>\n",
       "      <td>-0.008983</td>\n",
       "      <td>0.014724</td>\n",
       "      <td>2.69</td>\n",
       "      <td>0</td>\n",
       "    </tr>\n",
       "  </tbody>\n",
       "</table>\n",
       "<p>2 rows × 31 columns</p>\n",
       "</div>"
      ],
      "text/plain": [
       "   Time        V1        V2        V3        V4        V5        V6        V7  \\\n",
       "0   0.0 -1.359807 -0.072781  2.536347  1.378155 -0.338321  0.462388  0.239599   \n",
       "1   0.0  1.191857  0.266151  0.166480  0.448154  0.060018 -0.082361 -0.078803   \n",
       "\n",
       "         V8        V9  ...       V21       V22       V23       V24       V25  \\\n",
       "0  0.098698  0.363787  ... -0.018307  0.277838 -0.110474  0.066928  0.128539   \n",
       "1  0.085102 -0.255425  ... -0.225775 -0.638672  0.101288 -0.339846  0.167170   \n",
       "\n",
       "        V26       V27       V28  Amount  Class  \n",
       "0 -0.189115  0.133558 -0.021053  149.62      0  \n",
       "1  0.125895 -0.008983  0.014724    2.69      0  \n",
       "\n",
       "[2 rows x 31 columns]"
      ]
     },
     "execution_count": 5,
     "metadata": {},
     "output_type": "execute_result"
    }
   ],
   "source": [
    "\n",
    "# Обзор типов и примеры потенциальных проблем\n",
    "types = df.dtypes.astype(str)\n",
    "print(types.value_counts())\n",
    "print(\"Первые строки для проверки форматов:\")\n",
    "df.head(2)\n"
   ]
  },
  {
   "cell_type": "markdown",
   "id": "14491324",
   "metadata": {},
   "source": [
    "## Часть 4. Veracity (достоверность)\n",
    "Проверяются пропуски, дубликаты, отрицательные суммы, выбросы по сумме транзакции (|z|>3). Также демонстрируется «мини‑валидация» в стиле Great Expectations (без внешних зависимостей)."
   ]
  },
  {
   "cell_type": "code",
   "execution_count": 6,
   "id": "6cc72672",
   "metadata": {},
   "outputs": [
    {
     "data": {
      "text/html": [
       "<div>\n",
       "<style scoped>\n",
       "    .dataframe tbody tr th:only-of-type {\n",
       "        vertical-align: middle;\n",
       "    }\n",
       "\n",
       "    .dataframe tbody tr th {\n",
       "        vertical-align: top;\n",
       "    }\n",
       "\n",
       "    .dataframe thead th {\n",
       "        text-align: right;\n",
       "    }\n",
       "</style>\n",
       "<table border=\"1\" class=\"dataframe\">\n",
       "  <thead>\n",
       "    <tr style=\"text-align: right;\">\n",
       "      <th></th>\n",
       "      <th>metric</th>\n",
       "      <th>value</th>\n",
       "    </tr>\n",
       "  </thead>\n",
       "  <tbody>\n",
       "    <tr>\n",
       "      <th>0</th>\n",
       "      <td>missing_rows_any</td>\n",
       "      <td>0</td>\n",
       "    </tr>\n",
       "    <tr>\n",
       "      <th>1</th>\n",
       "      <td>duplicates</td>\n",
       "      <td>1081</td>\n",
       "    </tr>\n",
       "    <tr>\n",
       "      <th>2</th>\n",
       "      <td>neg_amounts</td>\n",
       "      <td>0</td>\n",
       "    </tr>\n",
       "    <tr>\n",
       "      <th>3</th>\n",
       "      <td>outliers_3sigma_amount</td>\n",
       "      <td>4076</td>\n",
       "    </tr>\n",
       "  </tbody>\n",
       "</table>\n",
       "</div>"
      ],
      "text/plain": [
       "                   metric  value\n",
       "0        missing_rows_any      0\n",
       "1              duplicates   1081\n",
       "2             neg_amounts      0\n",
       "3  outliers_3sigma_amount   4076"
      ]
     },
     "execution_count": 6,
     "metadata": {},
     "output_type": "execute_result"
    }
   ],
   "source": [
    "\n",
    "# Базовые проверки качества\n",
    "missing_by_col = df.isna().sum()\n",
    "duplicates = df.duplicated().sum()\n",
    "\n",
    "neg_amounts = int((df[\"Amount\"] < 0).sum()) if \"Amount\" in df.columns else 0\n",
    "\n",
    "# Outliers по сумме через 3σ\n",
    "outliers_3sigma = None\n",
    "if \"Amount\" in df.columns:\n",
    "    a = pd.to_numeric(df[\"Amount\"], errors=\"coerce\")\n",
    "    m, s = a.mean(), a.std(ddof=0)\n",
    "    outliers_3sigma = int((np.abs((a - m) / s) > 3).sum()) if s > 0 else 0\n",
    "\n",
    "pd.DataFrame({\n",
    "    \"metric\":[\"missing_rows_any\",\"duplicates\",\"neg_amounts\",\"outliers_3sigma_amount\"],\n",
    "    \"value\":[int(df.isna().any(axis=1).sum()), int(duplicates), int(neg_amounts), int(outliers_3sigma or 0)]\n",
    "})\n"
   ]
  },
  {
   "cell_type": "code",
   "execution_count": 7,
   "id": "aa7eb0a4",
   "metadata": {},
   "outputs": [
    {
     "data": {
      "text/plain": [
       "{'Amount_non_negative': True}"
      ]
     },
     "execution_count": 7,
     "metadata": {},
     "output_type": "execute_result"
    }
   ],
   "source": [
    "\n",
    "# «Мини‑GE»: декларативная проверка (пример)\n",
    "def expect_column_values_to_be_between(series, min_value=None, max_value=None):\n",
    "    ok = True\n",
    "    if min_value is not None:\n",
    "        ok &= (series >= min_value).all()\n",
    "    if max_value is not None:\n",
    "        ok &= (series <= max_value).all()\n",
    "    return bool(ok)\n",
    "\n",
    "checks = {\n",
    "    \"Amount_non_negative\": expect_column_values_to_be_between(df[\"Amount\"], 0, None) if \"Amount\" in df.columns else None,\n",
    "}\n",
    "\n",
    "checks\n"
   ]
  },
  {
   "cell_type": "markdown",
   "id": "93607610",
   "metadata": {},
   "source": [
    "## Часть 5. Value (ценность)\n",
    "Целевая метрика — снижение ущерба от мошенничества на 30%. Ниже приводятся оценки по датасету и формулы ROI."
   ]
  },
  {
   "cell_type": "code",
   "execution_count": 8,
   "id": "5d50c30c",
   "metadata": {},
   "outputs": [
    {
     "name": "stdout",
     "output_type": "stream",
     "text": [
      "Доля мошенничества: 0.001727\n",
      "Средний ущерб одной fraud‑транзакции: 122.21\n",
      "Оценка ежемесячной экономии, USD: 601.28\n",
      "ROI (месячный, грубо): -0.88\n"
     ]
    }
   ],
   "source": [
    "\n",
    "# Оценка базовых метрик ценности\n",
    "if \"Class\" in df.columns and \"Amount\" in df.columns:\n",
    "    fraud = df[df[\"Class\"]==1]\n",
    "    legit = df[df[\"Class\"]==0]\n",
    "    share = len(fraud) / len(df)\n",
    "    mean_loss = fraud[\"Amount\"].mean() if len(fraud) else 0.0\n",
    "    # Допустим, система предотвратит 30% мошеннических транзакций\n",
    "    prevented_rate = 0.30\n",
    "    monthly_events = len(df) / 30 if len(df) > 0 else 0  # грубая нормировка\n",
    "    est_monthly_savings = monthly_events * share * prevented_rate * mean_loss\n",
    "    \n",
    "    infra_cost_month = 5000  # USD, условная оценка инфраструктуры (кластера/стриминга)\n",
    "    roi = (est_monthly_savings - infra_cost_month) / infra_cost_month if infra_cost_month > 0 else None\n",
    "    \n",
    "    print(\"Доля мошенничества:\", round(share,6))\n",
    "    print(\"Средний ущерб одной fraud‑транзакции:\", round(mean_loss,2))\n",
    "    print(\"Оценка ежемесячной экономии, USD:\", round(est_monthly_savings,2))\n",
    "    print(\"ROI (месячный, грубо):\", round(roi,3) if roi is not None else \"—\")\n",
    "else:\n",
    "    print(\"Не хватает столбцов для оценки Value.\")\n"
   ]
  },
  {
   "cell_type": "markdown",
   "id": "c7140727",
   "metadata": {},
   "source": [
    "## Часть 6. Выбор технологий и рекомендации\n",
    "**Хранение:** Object Storage (S3‑совместимое) + **Parquet** (колоночное хранение, сжатие).  \n",
    "**Обработка:** **Flink** для true‑streaming с задержкой <50 мс; Spark для оффлайн‑ETL и фичеинжиниринга.  \n",
    "**ML:** MLflow для версионирования моделей; online‑фичи в Redis/Cassandra.  \n",
    "**Оркестрация:** Airflow/Prefect для батч‑пайплайнов.  \n",
    "\n",
    "### Архитектура (схема, псевдокод)\n",
    "```mermaid\n",
    "flowchart LR\n",
    "  K[Kafka (ingest)] --> F[Flink (real-time rules/model)] --> A[Alerts/API]\n",
    "  K --> S[Spark (batch ETL)] --> D[(S3/Parquet)] --> W[Warehouse/Lakehouse]\n",
    "  S --> M[MLflow/Training]\n",
    "  M --> F\n",
    "```\n",
    "\n",
    "**Риски и меры:** late‑arrivals (watermarks в Flink), data‑drift (scheduled retrain), несбалансированность классов (AUC‑PR, reweighting)."
   ]
  },
  {
   "cell_type": "markdown",
   "id": "ef925a94",
   "metadata": {},
   "source": [
    "### Стоимость хранения (Yandex Object Storage, STANDARD)\n",
    "Расчёт годовой стоимости исходя из Parquet‑объёма и публичной цены за GB‑месяц (без НДС)."
   ]
  },
  {
   "cell_type": "code",
   "execution_count": 9,
   "id": "d401539e",
   "metadata": {},
   "outputs": [
    {
     "name": "stdout",
     "output_type": "stream",
     "text": [
      "Parquet‑объём: 0.0281 GB; Годовая стоимость: $0.01\n"
     ]
    }
   ],
   "source": [
    "\n",
    "price_usd_per_gb_month = 0.01809\n",
    "parquet_gb = (28.768301) / 1024.0\n",
    "annual_cost_usd = parquet_gb * price_usd_per_gb_month * 12.0\n",
    "print(f\"Parquet‑объём: {parquet_gb:.4f} GB; Годовая стоимость: ${annual_cost_usd:.2f}\")\n"
   ]
  },
  {
   "cell_type": "markdown",
   "id": "8d97a686",
   "metadata": {},
   "source": [
    "## Заключение\n",
    "Показано, что для кейса fraud detection критичны **Velocity** и **Veracity** при умеренном **Volume**. Рекомендуется true‑streaming (Flink) для задержки <50 мс и Parquet для экономичного хранения. Ценность подтверждается положительным ROI при реальных параметрах потока."
   ]
  },
  {
   "cell_type": "markdown",
   "id": "23d8c46e",
   "metadata": {},
   "source": [
    "### Дополнение к Volume: рост данных и пороги масштабирования\n",
    "- Оценка ежедневного прироста записей по временной оси `Time`.\n",
    "- Прогноз годового объёма и момент превышения 1 TB.\n",
    "- Порог перехода от Pandas к Spark при росте объёма."
   ]
  },
  {
   "cell_type": "code",
   "execution_count": 10,
   "id": "8f41aa11",
   "metadata": {},
   "outputs": [
    {
     "name": "stdout",
     "output_type": "stream",
     "text": [
      "Оценка охваченных дней данными: 2.0\n",
      "Средний суточный поток (строк/день): 142410\n",
      "Годовой объём (CSV, MB): 26252.29\n",
      "Годовой объём (Parquet, MB): 5250.46\n",
      "Месяцев до 1 TB (Parquet): 2396.5\n"
     ]
    }
   ],
   "source": [
    "\n",
    "import numpy as np, pandas as pd\n",
    "\n",
    "if \"Time\" in df.columns:\n",
    "    t = df[\"Time\"].astype(float)\n",
    "    span_sec = float(t.max() - t.min()) if len(t)>1 else 0.0\n",
    "    days = span_sec / 86400.0 if span_sec>0 else np.nan\n",
    "    daily_rows = len(df)/days if days and days>0 else np.nan\n",
    "    # Прогноз на год (строки)\n",
    "    yearly_rows = daily_rows * 365 if daily_rows==daily_rows else np.nan  # NaN check\n",
    "    # Прогноз объёма: линейная аппроксимация по CSV и коэффициентам сжатия\n",
    "    bytes_per_row = (os.path.getsize(DATA_PATH)) / len(df)\n",
    "    yearly_csv_mb = (bytes_per_row * (yearly_rows if yearly_rows==yearly_rows else 0)) / (1024**2)\n",
    "    yearly_parquet_mb = yearly_csv_mb * 0.20\n",
    "    # Сколько месяцев до 1 TB в Parquet\n",
    "    tb_mb = 1024*1024\n",
    "    months_to_1tb = (tb_mb / yearly_parquet_mb * 12) if yearly_parquet_mb>0 else np.nan\n",
    "    \n",
    "    print(\"Оценка охваченных дней данными:\", round(days,3))\n",
    "    print(\"Средний суточный поток (строк/день):\", int(daily_rows) if daily_rows==daily_rows else \"—\")\n",
    "    print(\"Годовой объём (CSV, MB):\", round(yearly_csv_mb,2))\n",
    "    print(\"Годовой объём (Parquet, MB):\", round(yearly_parquet_mb,2))\n",
    "    print(\"Месяцев до 1 TB (Parquet):\", round(months_to_1tb,1) if months_to_1tb==months_to_1tb else \"—\")\n",
    "else:\n",
    "    print(\"Нет Time — рост объёма по времени не оценивается.\")\n"
   ]
  },
  {
   "cell_type": "markdown",
   "id": "e2643247",
   "metadata": {},
   "source": [
    "### Дополнение к Velocity: задержки batch/micro‑batch/streaming и потери при сбое\n",
    "- Моделирование задержки при пакетной обработке раз в час и микробатчах каждые 5 минут.\n",
    "- Оценка пиковых требований к пропускной способности и числа потоков обработки при целевой задержке <50 мс."
   ]
  },
  {
   "cell_type": "code",
   "execution_count": 11,
   "id": "5db8a0c3",
   "metadata": {},
   "outputs": [
    {
     "name": "stdout",
     "output_type": "stream",
     "text": [
      "Пиковая интенсивность, eps: 4.59\n",
      "Задержка batch (раз в час), мс: 3600000\n",
      "Задержка micro-batch (5 мин), мс: 300000\n",
      "Целевая задержка streaming, мс: 50\n",
      "Потери при 30‑мин сбое (оценка): 2966 событий\n",
      "Требуемое число ядер (оценочно): 1\n"
     ]
    }
   ],
   "source": [
    "\n",
    "# Базовая модель задержек\n",
    "batch_period_sec = 3600\n",
    "micro_period_sec = 300\n",
    "target_latency_ms = 50\n",
    "\n",
    "if \"Time\" in df.columns:\n",
    "    v = df[\"Time\"].astype(float)\n",
    "    # Средняя/пиковая интенсивность из ранее построенной метрики\n",
    "    # Пиковая нагрузка перводится в eps (events/sec)\n",
    "    win = (v // 300).astype(int)\n",
    "    per_win = win.value_counts()\n",
    "    peak_5m = per_win.max() if len(per_win) else 0\n",
    "    peak_eps = peak_5m / 300 if peak_5m else 0\n",
    "    \n",
    "    # Задержка batch ~ период окна (ожидание) + обработка; для простоты — период окна\n",
    "    latency_batch_ms = batch_period_sec * 1000\n",
    "    latency_micro_ms = micro_period_sec * 1000\n",
    "    latency_stream_ms = target_latency_ms\n",
    "    \n",
    "    # Потери при 30‑минутном сбое: среднее * 30 минут\n",
    "    mean_per_5m = per_win.mean() if len(per_win) else 0\n",
    "    lost_30m = int(mean_per_5m * 6)\n",
    "    \n",
    "    # Требуемая производительность: > peak_eps. Допустим, одна логическая «операция» на событие — 200k eps на ядро нереалистично;\n",
    "    # примем консервативно 10k eps/ядро для простых правил. Тогда ядра = ceil(peak_eps / 10k)\n",
    "    eps_per_core = 10000.0\n",
    "    needed_cores = math.ceil(peak_eps / eps_per_core) if peak_eps>0 else 1\n",
    "    \n",
    "    print(\"Пиковая интенсивность, eps:\", round(peak_eps,2))\n",
    "    print(\"Задержка batch (раз в час), мс:\", latency_batch_ms)\n",
    "    print(\"Задержка micro-batch (5 мин), мс:\", latency_micro_ms)\n",
    "    print(\"Целевая задержка streaming, мс:\", latency_stream_ms)\n",
    "    print(\"Потери при 30‑мин сбое (оценка):\", lost_30m, \"событий\")\n",
    "    print(\"Требуемое число ядер (оценочно):\", needed_cores)\n",
    "else:\n",
    "    print(\"Нет Time — метрики latency ограничены.\")\n"
   ]
  },
  {
   "cell_type": "markdown",
   "id": "f2fcec17",
   "metadata": {},
   "source": [
    "### Визуализации распределений: суммы транзакций и дисбаланс классов"
   ]
  },
  {
   "cell_type": "code",
   "execution_count": 12,
   "id": "c925b7ca",
   "metadata": {},
   "outputs": [
    {
     "data": {
      "image/png": "[encoded data removed]",
      "text/plain": [
       "<Figure size 640x480 with 1 Axes>"
      ]
     },
     "metadata": {},
     "output_type": "display_data"
    },
    {
     "data": {
      "image/png": "[encoded data removed]",
      "text/plain": [
       "<Figure size 640x480 with 1 Axes>"
      ]
     },
     "metadata": {},
     "output_type": "display_data"
    }
   ],
   "source": [
    "\n",
    "import matplotlib.pyplot as plt\n",
    "if \"Amount\" in df.columns:\n",
    "    plt.figure()\n",
    "    df[\"Amount\"].plot(kind=\"hist\", bins=50, title=\"Распределение сумм транзакций (Amount, бины=50)\")\n",
    "    plt.xlabel(\"Amount\"); plt.ylabel(\"Частота\"); plt.show()\n",
    "\n",
    "if \"Class\" in df.columns:\n",
    "    plt.figure()\n",
    "    df[\"Class\"].value_counts().plot(kind=\"bar\", title=\"Дисбаланс классов (0=legit, 1=fraud)\")\n",
    "    plt.xlabel(\"Class\"); plt.ylabel(\"Кол-во\"); plt.show()\n"
   ]
  },
  {
   "cell_type": "markdown",
   "id": "66aa1410",
   "metadata": {},
   "source": [
    "### Таблица выбора технологий под 5V"
   ]
  },
  {
   "cell_type": "code",
   "execution_count": 13,
   "id": "daba567c",
   "metadata": {},
   "outputs": [
    {
     "data": {
      "text/html": [
       "<div>\n",
       "<style scoped>\n",
       "    .dataframe tbody tr th:only-of-type {\n",
       "        vertical-align: middle;\n",
       "    }\n",
       "\n",
       "    .dataframe tbody tr th {\n",
       "        vertical-align: top;\n",
       "    }\n",
       "\n",
       "    .dataframe thead th {\n",
       "        text-align: right;\n",
       "    }\n",
       "</style>\n",
       "<table border=\"1\" class=\"dataframe\">\n",
       "  <thead>\n",
       "    <tr style=\"text-align: right;\">\n",
       "      <th></th>\n",
       "      <th>Слой</th>\n",
       "      <th>Инструмент</th>\n",
       "      <th>Обоснование</th>\n",
       "    </tr>\n",
       "  </thead>\n",
       "  <tbody>\n",
       "    <tr>\n",
       "      <th>0</th>\n",
       "      <td>Хранение</td>\n",
       "      <td>S3-совместимое + Parquet</td>\n",
       "      <td>Сжатие 70–85%, колоночность; партиционирование...</td>\n",
       "    </tr>\n",
       "    <tr>\n",
       "      <th>1</th>\n",
       "      <td>Оффлайн обработка</td>\n",
       "      <td>Apache Spark</td>\n",
       "      <td>ETL/фичи; join/agg; масштаб &gt;100 ГБ</td>\n",
       "    </tr>\n",
       "    <tr>\n",
       "      <th>2</th>\n",
       "      <td>Стриминг</td>\n",
       "      <td>Apache Flink</td>\n",
       "      <td>Event-time, watermarks; задержка &lt;50 мс</td>\n",
       "    </tr>\n",
       "    <tr>\n",
       "      <th>3</th>\n",
       "      <td>Шина</td>\n",
       "      <td>Kafka</td>\n",
       "      <td>Буферизация, ретеншн, партиции = масштабирование</td>\n",
       "    </tr>\n",
       "    <tr>\n",
       "      <th>4</th>\n",
       "      <td>ML</td>\n",
       "      <td>MLflow + Feature Store</td>\n",
       "      <td>Версионирование, online/offline фичи</td>\n",
       "    </tr>\n",
       "    <tr>\n",
       "      <th>5</th>\n",
       "      <td>Онлайн-хранилище фич</td>\n",
       "      <td>Redis/Cassandra</td>\n",
       "      <td>Низкая задержка чтения</td>\n",
       "    </tr>\n",
       "    <tr>\n",
       "      <th>6</th>\n",
       "      <td>Оркестрация</td>\n",
       "      <td>Airflow/Prefect</td>\n",
       "      <td>Планирование батч-пайплайнов</td>\n",
       "    </tr>\n",
       "  </tbody>\n",
       "</table>\n",
       "</div>"
      ],
      "text/plain": [
       "                   Слой                Инструмент  \\\n",
       "0              Хранение  S3-совместимое + Parquet   \n",
       "1     Оффлайн обработка              Apache Spark   \n",
       "2              Стриминг              Apache Flink   \n",
       "3                  Шина                     Kafka   \n",
       "4                    ML    MLflow + Feature Store   \n",
       "5  Онлайн-хранилище фич           Redis/Cassandra   \n",
       "6           Оркестрация           Airflow/Prefect   \n",
       "\n",
       "                                         Обоснование  \n",
       "0  Сжатие 70–85%, колоночность; партиционирование...  \n",
       "1                ETL/фичи; join/agg; масштаб >100 ГБ  \n",
       "2            Event-time, watermarks; задержка <50 мс  \n",
       "3   Буферизация, ретеншн, партиции = масштабирование  \n",
       "4               Версионирование, online/offline фичи  \n",
       "5                             Низкая задержка чтения  \n",
       "6                       Планирование батч-пайплайнов  "
      ]
     },
     "execution_count": 13,
     "metadata": {},
     "output_type": "execute_result"
    }
   ],
   "source": [
    "\n",
    "import pandas as pd\n",
    "tech = pd.DataFrame([\n",
    "    [\"Хранение\", \"S3-совместимое + Parquet\", \"Сжатие 70–85%, колоночность; партиционирование по дате/часу\"],\n",
    "    [\"Оффлайн обработка\", \"Apache Spark\", \"ETL/фичи; join/agg; масштаб >100 ГБ\"],\n",
    "    [\"Стриминг\", \"Apache Flink\", \"Event-time, watermarks; задержка <50 мс\"],\n",
    "    [\"Шина\", \"Kafka\", \"Буферизация, ретеншн, партиции = масштабирование\"],\n",
    "    [\"ML\", \"MLflow + Feature Store\", \"Версионирование, online/offline фичи\"],\n",
    "    [\"Онлайн-хранилище фич\", \"Redis/Cassandra\", \"Низкая задержка чтения\"],\n",
    "    [\"Оркестрация\", \"Airflow/Prefect\", \"Планирование батч-пайплайнов\"]\n",
    "], columns=[\"Слой\",\"Инструмент\",\"Обоснование\"])\n",
    "tech\n"
   ]
  },
  {
   "cell_type": "markdown",
   "id": "ebb54d7c",
   "metadata": {
    "jp-MarkdownHeadingCollapsed": true
   },
   "source": []
  }
 ],
 "metadata": {
  "kernelspec": {
   "display_name": "Python [conda env:base] *",
   "language": "python",
   "name": "conda-base-py"
  },
  "language_info": {
   "codemirror_mode": {
    "name": "ipython",
    "version": 3
   },
   "file_extension": ".py",
   "mimetype": "text/x-python",
   "name": "python",
   "nbconvert_exporter": "python",
   "pygments_lexer": "ipython3",
   "version": "3.12.7"
  }
 },
 "nbformat": 4,
 "nbformat_minor": 5
}
